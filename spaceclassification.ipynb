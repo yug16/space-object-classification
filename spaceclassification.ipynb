{
 "cells": [
  {
   "cell_type": "code",
   "execution_count": 1,
   "metadata": {
    "_cell_guid": "b1076dfc-b9ad-4769-8c92-a6c4dae69d19",
    "_uuid": "8f2839f25d086af736a60e9eeb907d3b93b6e0e5"
   },
   "outputs": [
    {
     "name": "stdout",
     "output_type": "stream",
     "text": [
      "/kaggle/input/astro-bitsp/test_data.csv\n",
      "/kaggle/input/astro-bitsp/train_data.csv\n",
      "/kaggle/input/astro-bitsp/sample_submission.csv\n",
      "/kaggle/input/astro-bitsp/ProblemDescription.pdf\n"
     ]
    }
   ],
   "source": [
    "# This Python 3 environment comes with many helpful analytics libraries installed\n",
    "# It is defined by the kaggle/python Docker image: https://github.com/kaggle/docker-python\n",
    "# For example, here's several helpful packages to load\n",
    "\n",
    "import numpy as np # linear algebra\n",
    "import pandas as pd # data processing, CSV file I/O (e.g. pd.read_csv)\n",
    "\n",
    "# Input data files are available in the read-only \"../input/\" directory\n",
    "# For example, running this (by clicking run or pressing Shift+Enter) will list all files under the input directory\n",
    "\n",
    "import os\n",
    "for dirname, _, filenames in os.walk('/kaggle/input'):\n",
    "    for filename in filenames:\n",
    "        print(os.path.join(dirname, filename))\n",
    "\n",
    "# You can write up to 5GB to the current directory (/kaggle/working/) that gets preserved as output when you create a version using \"Save & Run All\" \n",
    "# You can also write temporary files to /kaggle/temp/, but they won't be saved outside of the current session"
   ]
  },
  {
   "cell_type": "code",
   "execution_count": 2,
   "metadata": {
    "_cell_guid": "79c7e3d0-c299-4dcb-8224-4455121ee9b0",
    "_uuid": "d629ff2d2480ee46fbb7e2d37f6b5fab8052498a"
   },
   "outputs": [],
   "source": [
    "import numpy as np\n",
    "import pandas as pd\n",
    "import matplotlib.pyplot as plt\n",
    "import seaborn as sns\n",
    "\n",
    "%matplotlib inline"
   ]
  },
  {
   "cell_type": "code",
   "execution_count": 3,
   "metadata": {},
   "outputs": [
    {
     "data": {
      "text/html": [
       "<div>\n",
       "<style scoped>\n",
       "    .dataframe tbody tr th:only-of-type {\n",
       "        vertical-align: middle;\n",
       "    }\n",
       "\n",
       "    .dataframe tbody tr th {\n",
       "        vertical-align: top;\n",
       "    }\n",
       "\n",
       "    .dataframe thead th {\n",
       "        text-align: right;\n",
       "    }\n",
       "</style>\n",
       "<table border=\"1\" class=\"dataframe\">\n",
       "  <thead>\n",
       "    <tr style=\"text-align: right;\">\n",
       "      <th></th>\n",
       "      <th>Unnamed: 0</th>\n",
       "      <th>objid</th>\n",
       "      <th>ra</th>\n",
       "      <th>dec</th>\n",
       "      <th>u</th>\n",
       "      <th>g</th>\n",
       "      <th>r</th>\n",
       "      <th>i</th>\n",
       "      <th>z</th>\n",
       "      <th>run</th>\n",
       "      <th>rerun</th>\n",
       "      <th>camcol</th>\n",
       "      <th>field</th>\n",
       "      <th>specobjid</th>\n",
       "      <th>redshift</th>\n",
       "      <th>plate</th>\n",
       "      <th>mjd</th>\n",
       "      <th>fiberid</th>\n",
       "    </tr>\n",
       "  </thead>\n",
       "  <tbody>\n",
       "    <tr>\n",
       "      <th>0</th>\n",
       "      <td>8000</td>\n",
       "      <td>1.237650e+18</td>\n",
       "      <td>227.375806</td>\n",
       "      <td>-0.771168</td>\n",
       "      <td>16.99624</td>\n",
       "      <td>15.53884</td>\n",
       "      <td>14.83586</td>\n",
       "      <td>14.42628</td>\n",
       "      <td>14.12664</td>\n",
       "      <td>752</td>\n",
       "      <td>301</td>\n",
       "      <td>2</td>\n",
       "      <td>560</td>\n",
       "      <td>3.502110e+17</td>\n",
       "      <td>0.037770</td>\n",
       "      <td>311</td>\n",
       "      <td>51665</td>\n",
       "      <td>203</td>\n",
       "    </tr>\n",
       "    <tr>\n",
       "      <th>1</th>\n",
       "      <td>8001</td>\n",
       "      <td>1.237650e+18</td>\n",
       "      <td>238.431007</td>\n",
       "      <td>53.576358</td>\n",
       "      <td>18.67881</td>\n",
       "      <td>17.75691</td>\n",
       "      <td>17.48336</td>\n",
       "      <td>17.36665</td>\n",
       "      <td>17.35294</td>\n",
       "      <td>1345</td>\n",
       "      <td>301</td>\n",
       "      <td>6</td>\n",
       "      <td>552</td>\n",
       "      <td>7.553760e+18</td>\n",
       "      <td>-0.000642</td>\n",
       "      <td>6709</td>\n",
       "      <td>56429</td>\n",
       "      <td>354</td>\n",
       "    </tr>\n",
       "    <tr>\n",
       "      <th>2</th>\n",
       "      <td>8002</td>\n",
       "      <td>1.237650e+18</td>\n",
       "      <td>158.531844</td>\n",
       "      <td>0.381310</td>\n",
       "      <td>19.29484</td>\n",
       "      <td>18.08970</td>\n",
       "      <td>17.59773</td>\n",
       "      <td>17.33928</td>\n",
       "      <td>17.18477</td>\n",
       "      <td>756</td>\n",
       "      <td>301</td>\n",
       "      <td>4</td>\n",
       "      <td>285</td>\n",
       "      <td>3.075220e+17</td>\n",
       "      <td>0.032200</td>\n",
       "      <td>273</td>\n",
       "      <td>51957</td>\n",
       "      <td>550</td>\n",
       "    </tr>\n",
       "    <tr>\n",
       "      <th>3</th>\n",
       "      <td>8003</td>\n",
       "      <td>1.237650e+18</td>\n",
       "      <td>209.293640</td>\n",
       "      <td>-0.832522</td>\n",
       "      <td>19.01460</td>\n",
       "      <td>17.33462</td>\n",
       "      <td>16.45423</td>\n",
       "      <td>16.02605</td>\n",
       "      <td>15.67589</td>\n",
       "      <td>752</td>\n",
       "      <td>301</td>\n",
       "      <td>2</td>\n",
       "      <td>439</td>\n",
       "      <td>3.389300e+17</td>\n",
       "      <td>0.089099</td>\n",
       "      <td>301</td>\n",
       "      <td>51942</td>\n",
       "      <td>123</td>\n",
       "    </tr>\n",
       "    <tr>\n",
       "      <th>4</th>\n",
       "      <td>8004</td>\n",
       "      <td>1.237650e+18</td>\n",
       "      <td>118.356384</td>\n",
       "      <td>44.405038</td>\n",
       "      <td>17.71843</td>\n",
       "      <td>16.80586</td>\n",
       "      <td>16.52990</td>\n",
       "      <td>16.41602</td>\n",
       "      <td>16.37861</td>\n",
       "      <td>1402</td>\n",
       "      <td>301</td>\n",
       "      <td>4</td>\n",
       "      <td>86</td>\n",
       "      <td>4.139030e+18</td>\n",
       "      <td>-0.000817</td>\n",
       "      <td>3676</td>\n",
       "      <td>55186</td>\n",
       "      <td>800</td>\n",
       "    </tr>\n",
       "  </tbody>\n",
       "</table>\n",
       "</div>"
      ],
      "text/plain": [
       "   Unnamed: 0         objid          ra        dec         u         g  \\\n",
       "0        8000  1.237650e+18  227.375806  -0.771168  16.99624  15.53884   \n",
       "1        8001  1.237650e+18  238.431007  53.576358  18.67881  17.75691   \n",
       "2        8002  1.237650e+18  158.531844   0.381310  19.29484  18.08970   \n",
       "3        8003  1.237650e+18  209.293640  -0.832522  19.01460  17.33462   \n",
       "4        8004  1.237650e+18  118.356384  44.405038  17.71843  16.80586   \n",
       "\n",
       "          r         i         z   run  rerun  camcol  field     specobjid  \\\n",
       "0  14.83586  14.42628  14.12664   752    301       2    560  3.502110e+17   \n",
       "1  17.48336  17.36665  17.35294  1345    301       6    552  7.553760e+18   \n",
       "2  17.59773  17.33928  17.18477   756    301       4    285  3.075220e+17   \n",
       "3  16.45423  16.02605  15.67589   752    301       2    439  3.389300e+17   \n",
       "4  16.52990  16.41602  16.37861  1402    301       4     86  4.139030e+18   \n",
       "\n",
       "   redshift  plate    mjd  fiberid  \n",
       "0  0.037770    311  51665      203  \n",
       "1 -0.000642   6709  56429      354  \n",
       "2  0.032200    273  51957      550  \n",
       "3  0.089099    301  51942      123  \n",
       "4 -0.000817   3676  55186      800  "
      ]
     },
     "execution_count": 3,
     "metadata": {},
     "output_type": "execute_result"
    }
   ],
   "source": [
    "train_df = pd.read_csv('../input/astro-bitsp/train_data.csv')\n",
    "test_df = pd.read_csv('../input/astro-bitsp/test_data.csv')\n",
    "test_df.head()\n"
   ]
  },
  {
   "cell_type": "code",
   "execution_count": 4,
   "metadata": {},
   "outputs": [],
   "source": [
    "from sklearn.model_selection import  cross_val_score\n",
    "from sklearn.neighbors import KNeighborsClassifier\n",
    "from sklearn import metrics"
   ]
  },
  {
   "cell_type": "code",
   "execution_count": 5,
   "metadata": {},
   "outputs": [],
   "source": [
    "x= train_df[['u','g','r','i','z','redshift']]\n",
    "y= train_df['class']"
   ]
  },
  {
   "cell_type": "code",
   "execution_count": 6,
   "metadata": {},
   "outputs": [
    {
     "data": {
      "text/html": [
       "<div>\n",
       "<style scoped>\n",
       "    .dataframe tbody tr th:only-of-type {\n",
       "        vertical-align: middle;\n",
       "    }\n",
       "\n",
       "    .dataframe tbody tr th {\n",
       "        vertical-align: top;\n",
       "    }\n",
       "\n",
       "    .dataframe thead th {\n",
       "        text-align: right;\n",
       "    }\n",
       "</style>\n",
       "<table border=\"1\" class=\"dataframe\">\n",
       "  <thead>\n",
       "    <tr style=\"text-align: right;\">\n",
       "      <th></th>\n",
       "      <th>id</th>\n",
       "      <th>class</th>\n",
       "    </tr>\n",
       "  </thead>\n",
       "  <tbody>\n",
       "    <tr>\n",
       "      <th>0</th>\n",
       "      <td>8000</td>\n",
       "      <td>1</td>\n",
       "    </tr>\n",
       "    <tr>\n",
       "      <th>1</th>\n",
       "      <td>8001</td>\n",
       "      <td>1</td>\n",
       "    </tr>\n",
       "    <tr>\n",
       "      <th>2</th>\n",
       "      <td>8002</td>\n",
       "      <td>1</td>\n",
       "    </tr>\n",
       "    <tr>\n",
       "      <th>3</th>\n",
       "      <td>8003</td>\n",
       "      <td>1</td>\n",
       "    </tr>\n",
       "    <tr>\n",
       "      <th>4</th>\n",
       "      <td>8004</td>\n",
       "      <td>1</td>\n",
       "    </tr>\n",
       "  </tbody>\n",
       "</table>\n",
       "</div>"
      ],
      "text/plain": [
       "     id  class\n",
       "0  8000      1\n",
       "1  8001      1\n",
       "2  8002      1\n",
       "3  8003      1\n",
       "4  8004      1"
      ]
     },
     "execution_count": 6,
     "metadata": {},
     "output_type": "execute_result"
    }
   ],
   "source": [
    "subm = pd.read_csv('../input/astro-bitsp/sample_submission.csv')\n",
    "subm.head()"
   ]
  },
  {
   "cell_type": "code",
   "execution_count": 7,
   "metadata": {},
   "outputs": [],
   "source": [
    "knn = KNeighborsClassifier(n_neighbors=1)\n",
    "knn.fit(x,y)\n",
    "y_pred=knn.predict(test_df[['u','g','r','i','z','redshift']])\n",
    "subm['class'] = y_pred\n",
    "\n"
   ]
  },
  {
   "cell_type": "code",
   "execution_count": 8,
   "metadata": {},
   "outputs": [
    {
     "data": {
      "text/plain": [
       "1    957\n",
       "0    875\n",
       "2    168\n",
       "Name: class, dtype: int64"
      ]
     },
     "execution_count": 8,
     "metadata": {},
     "output_type": "execute_result"
    }
   ],
   "source": [
    "subm['class'].value_counts()"
   ]
  },
  {
   "cell_type": "code",
   "execution_count": 9,
   "metadata": {},
   "outputs": [],
   "source": [
    "subm.to_csv('submission1.csv', index= False)"
   ]
  }
 ],
 "metadata": {
  "kernelspec": {
   "display_name": "Python 3",
   "language": "python",
   "name": "python3"
  },
  "language_info": {
   "codemirror_mode": {
    "name": "ipython",
    "version": 3
   },
   "file_extension": ".py",
   "mimetype": "text/x-python",
   "name": "python",
   "nbconvert_exporter": "python",
   "pygments_lexer": "ipython3",
   "version": "3.7.6"
  }
 },
 "nbformat": 4,
 "nbformat_minor": 4
}
